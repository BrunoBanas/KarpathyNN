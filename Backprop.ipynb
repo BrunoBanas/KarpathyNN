{
 "cells": [
  {
   "cell_type": "code",
   "execution_count": 50,
   "id": "c7335f2c",
   "metadata": {},
   "outputs": [],
   "source": [
    "import torch\n",
    "import torch.nn.functional as F\n",
    "import matplotlib.pyplot as plt\n",
    "import math"
   ]
  },
  {
   "cell_type": "code",
   "execution_count": 3,
   "id": "2acfed47",
   "metadata": {},
   "outputs": [],
   "source": [
    "words = open('names.txt', 'r').read().splitlines()"
   ]
  },
  {
   "cell_type": "code",
   "execution_count": 4,
   "id": "e10e94b6",
   "metadata": {},
   "outputs": [],
   "source": [
    "chars = sorted(list(set(''.join(words))))\n",
    "stoi = {s:i+1 for i,s in enumerate(chars)} #mapping of a character to an index\n",
    "stoi['.'] = 0 # replacing special end and start characters with a single . representing the space between words\n",
    "itos = {i:s for s,i in stoi.items()}\n",
    "vocab_size = len(itos)"
   ]
  },
  {
   "cell_type": "code",
   "execution_count": 5,
   "id": "fad0a7a3",
   "metadata": {},
   "outputs": [
    {
     "name": "stdout",
     "output_type": "stream",
     "text": [
      "torch.Size([182625, 3]) torch.Size([182625])\n",
      "torch.Size([22655, 3]) torch.Size([22655])\n",
      "torch.Size([22866, 3]) torch.Size([22866])\n"
     ]
    }
   ],
   "source": [
    "# build the dataset\n",
    "block_size = 3 # context length: how many characters do we take to predict the next one?\n",
    "def build_dataset (words) :\n",
    "    X, Y = [],[]\n",
    "    for w in words:\n",
    "        context = [0] * block_size\n",
    "        for ch in w+ '.':\n",
    "            ix = stoi[ch]\n",
    "            X.append(context)\n",
    "            Y.append(ix)\n",
    "            context = context[1:] + [ix] # crop and append\n",
    "    X = torch. tensor (X)\n",
    "    Y = torch. tensor (Y)\n",
    "    print(X. shape, Y.shape)\n",
    "    return X, Y\n",
    "\n",
    "import random \n",
    "random.seed(42)\n",
    "random.shuffle(words)\n",
    "\n",
    "n1 = int(0.8*len(words) )\n",
    "n2 = int (0.9*len(words) )\n",
    "Xtr, Ytr = build_dataset (words[:n1])\n",
    "Xdev, Ydev = build_dataset (words[n1:n2])\n",
    "Xte, Yte = build_dataset(words[n2:])\n"
   ]
  },
  {
   "cell_type": "code",
   "execution_count": 6,
   "id": "8ddcebd7",
   "metadata": {},
   "outputs": [],
   "source": [
    "#function that checks our backprop implementation to pytorch \n",
    "def cmp(s, dt, t):\n",
    "    ex = torch.all(dt == t.grad).item()\n",
    "    app = torch.allclose(dt, t.grad)\n",
    "    maxdiff = (dt-t.grad).abs().max().item()\n",
    "    print(f'{s:15s} | exact: {str(ex):5s} | approximate: {str(app):5s} | maxdiff:{maxdiff}')"
   ]
  },
  {
   "cell_type": "code",
   "execution_count": null,
   "id": "b3dfa226",
   "metadata": {},
   "outputs": [
    {
     "name": "stdout",
     "output_type": "stream",
     "text": [
      "4137\n"
     ]
    }
   ],
   "source": [
    "n_emb = 10\n",
    "n_hidden = 64\n",
    "\n",
    "C = torch.randn((vocab_size,n_emb)) \n",
    "\n",
    "W1 = torch.randn((n_emb*block_size,n_hidden)) * (5/3)/(n_emb*block_size)**0.5 \n",
    "b1 = torch.randn(n_hidden) * 0.1 # just for funsies to see the gradients\n",
    "\n",
    "W2 = torch.randn((n_hidden,vocab_size)) * 0.1 \n",
    "b2 = torch.randn(vocab_size) * 0.1 \n",
    "# initializing with non-zero parameters helps debug incorrect implementation of backprop\n",
    "bngain = torch.rand((1, n_hidden))*0.1 + 1\n",
    "bnbias = torch.rand((1, n_hidden))*0.1\n",
    "\n",
    "parameters = [C, W1, b1, W2, b2, bngain, bnbias]\n",
    "\n",
    "for p in parameters:\n",
    "    p.requires_grad = True\n",
    "\n",
    "print(sum(p.nelement() for p in parameters))"
   ]
  },
  {
   "cell_type": "code",
   "execution_count": 8,
   "id": "a21d389f",
   "metadata": {},
   "outputs": [],
   "source": [
    "#minibatch\n",
    "batch_size = 32\n",
    "n = batch_size\n",
    "\n",
    "ix = torch.randint(0,Xtr.shape[0],(batch_size,))\n",
    "Xb, Yb = Xtr[ix], Ytr[ix]"
   ]
  },
  {
   "cell_type": "code",
   "execution_count": 99,
   "id": "ae3a86ff",
   "metadata": {},
   "outputs": [
    {
     "data": {
      "text/plain": [
       "tensor(3.5622, grad_fn=<NegBackward0>)"
      ]
     },
     "execution_count": 99,
     "metadata": {},
     "output_type": "execute_result"
    }
   ],
   "source": [
    "#forward pass\n",
    "emb = C[Xb] \n",
    "embcat = emb.view(emb.shape[0],-1) \n",
    "pre_bn = embcat @ W1 + b1 \n",
    "\n",
    "bnmean = pre_bn.sum(0, keepdim=True)/n\n",
    "bndiff = pre_bn - bnmean\n",
    "bndiff2 = bndiff**2\n",
    "bnvar = bndiff2.sum(0, keepdim=True)/(n-1)\n",
    "bnvar_inv = (bnvar + 1e-5)**-0.5\n",
    "bnraw = bndiff * bnvar_inv\n",
    "pre_act = bngain*bnraw + bnbias \n",
    "\n",
    "h= torch.tanh(pre_act)\n",
    "\n",
    "logits = h @ W2 + b2\n",
    "\n",
    "logit_maxes = logits.max(1, keepdim=True).values\n",
    "norm_logits = logits - logit_maxes\n",
    "counts = norm_logits.exp()\n",
    "counts_sum = counts.sum(1, keepdim=True)\n",
    "counts_sum_inv = counts_sum**-1\n",
    "probs = counts*counts_sum_inv\n",
    "logprobs = probs.log()\n",
    "loss = -logprobs[range(n), Yb].mean()\n",
    "\n",
    "for p in parameters:\n",
    "    p.grad = None\n",
    "\n",
    "for t in [logprobs, probs, counts_sum_inv, counts_sum,counts,norm_logits,logit_maxes,\n",
    "          logits,h, pre_act, bnraw, bnvar, bnvar_inv, bndiff, bndiff2, bnmean,pre_bn, emb, embcat]:\n",
    "    t.retain_grad()\n",
    "\n",
    "loss.backward()\n",
    "loss"
   ]
  },
  {
   "cell_type": "code",
   "execution_count": 87,
   "id": "eaa52d90",
   "metadata": {},
   "outputs": [
    {
     "data": {
      "text/plain": [
       "torch.Size([32, 64])"
      ]
     },
     "execution_count": 87,
     "metadata": {},
     "output_type": "execute_result"
    }
   ],
   "source": [
    "pre_bn.shape"
   ]
  },
  {
   "cell_type": "markdown",
   "id": "00ef4137",
   "metadata": {},
   "source": [
    "Backprop by-hand implementation "
   ]
  },
  {
   "cell_type": "code",
   "execution_count": 57,
   "id": "e1e11803",
   "metadata": {},
   "outputs": [
    {
     "name": "stdout",
     "output_type": "stream",
     "text": [
      "logprobs        | exact: True  | approximate: True  | maxdiff:0.0\n"
     ]
    }
   ],
   "source": [
    "#starting with the derivative of all variables\n",
    "#dlogprorbs is defined as the derivative of the loss wrt all elements of logprobs which has 32x27 elements\n",
    "# loss = -logprobs[range(n), Yb].mean() - iterating over n rows and choosing number at column Yb\n",
    "# loss = -(a + b + c + ...)/n \n",
    "# dloss/dlogprobs[a] = -1/n\n",
    "dlogprobs = torch.zeros_like(logprobs) \n",
    "dlogprobs[range(n),Yb] = -1.0/n\n",
    "cmp('logprobs', dlogprobs, logprobs)"
   ]
  },
  {
   "cell_type": "code",
   "execution_count": 78,
   "id": "ea4d4fa3",
   "metadata": {},
   "outputs": [
    {
     "data": {
      "text/plain": [
       "(torch.Size([1, 64]), torch.Size([32, 64]))"
      ]
     },
     "execution_count": 78,
     "metadata": {},
     "output_type": "execute_result"
    }
   ],
   "source": [
    "bngain.shape, bnraw.shape"
   ]
  },
  {
   "cell_type": "code",
   "execution_count": 98,
   "id": "e06664f8",
   "metadata": {},
   "outputs": [
    {
     "name": "stderr",
     "output_type": "stream",
     "text": [
      "/var/folders/3l/xl74lq2n4mgdtvzmv41498d00000gn/T/ipykernel_30771/2299525168.py:1: UserWarning: The .grad attribute of a Tensor that is not a leaf Tensor is being accessed. Its .grad attribute won't be populated during autograd.backward(). If you indeed want the .grad field to be populated for a non-leaf Tensor, use .retain_grad() on the non-leaf Tensor. If you access the non-leaf Tensor by mistake, make sure you access the leaf Tensor instead. See github.com/pytorch/pytorch/pull/30531 for more informations. (Triggered internally at /private/var/folders/k1/30mswbxs7r1g6zwn8y4fyt500000gp/T/abs_581jc0ddx6/croot/pytorch-select_1730848714937/work/build/aten/src/ATen/core/TensorBody.h:494.)\n",
      "  pre_bn.grad\n"
     ]
    }
   ],
   "source": [
    "pre_bn.grad"
   ]
  },
  {
   "cell_type": "code",
   "execution_count": 106,
   "id": "de80bbd6",
   "metadata": {},
   "outputs": [
    {
     "name": "stdout",
     "output_type": "stream",
     "text": [
      "probs           | exact: True  | approximate: True  | maxdiff:0.0\n",
      "counts_sum_inv  | exact: True  | approximate: True  | maxdiff:0.0\n",
      "counts_sum      | exact: True  | approximate: True  | maxdiff:0.0\n",
      "counts          | exact: True  | approximate: True  | maxdiff:0.0\n",
      "norm_logits     | exact: True  | approximate: True  | maxdiff:0.0\n",
      "logit_maxes     | exact: True  | approximate: True  | maxdiff:0.0\n",
      "logits          | exact: True  | approximate: True  | maxdiff:0.0\n",
      "h               | exact: True  | approximate: True  | maxdiff:0.0\n",
      "W2              | exact: True  | approximate: True  | maxdiff:0.0\n",
      "b2              | exact: True  | approximate: True  | maxdiff:0.0\n",
      "pre_act         | exact: True  | approximate: True  | maxdiff:0.0\n",
      "bngain          | exact: True  | approximate: True  | maxdiff:0.0\n",
      "bnbias          | exact: True  | approximate: True  | maxdiff:0.0\n",
      "bnraw           | exact: True  | approximate: True  | maxdiff:0.0\n",
      "bnvar_inv       | exact: True  | approximate: True  | maxdiff:0.0\n",
      "bnvar           | exact: True  | approximate: True  | maxdiff:0.0\n",
      "bndiff2         | exact: True  | approximate: True  | maxdiff:0.0\n",
      "bndiff          | exact: True  | approximate: True  | maxdiff:0.0\n",
      "bnmean          | exact: True  | approximate: True  | maxdiff:0.0\n",
      "hprebn          | exact: True  | approximate: True  | maxdiff:0.0\n",
      "embcat          | exact: True  | approximate: True  | maxdiff:0.0\n",
      "W1              | exact: True  | approximate: True  | maxdiff:0.0\n",
      "b1              | exact: True  | approximate: True  | maxdiff:0.0\n",
      "emb             | exact: True  | approximate: True  | maxdiff:0.0\n",
      "C               | exact: True  | approximate: True  | maxdiff:0.0\n"
     ]
    }
   ],
   "source": [
    "dprobs = dlogprobs * 1/probs\n",
    "dcounts_sum_inv = (counts*dprobs).sum(1, keepdim=True) # sum due to broadcasting - each row is multiplied by the same counts\n",
    "dcounts_sum = -1 * counts_sum**-2 * dcounts_sum_inv\n",
    "dcounts = torch.ones_like(counts)*dcounts_sum + counts_sum_inv * dprobs# branch of counts is used twice, in probs and counts_sum\n",
    "dnorm_logits = counts*dcounts\n",
    "dlogit_maxes = (-1 * torch.ones_like(logit_maxes) * dnorm_logits).sum(1, keepdim=True)  # sum for braodcasting, dlogit_maxes and logit_maxers have to have the same dimention\n",
    "dlogits = (torch.ones_like(logits) * dnorm_logits) + F.one_hot(logits.max(1).indices, num_classes=logits.shape[1])*dlogit_maxes # max chooses the max number in each column, that index will be 1 and rest is zero - one_hot\n",
    "dW2 = h.T @ dlogits\n",
    "db2 = (torch.ones_like(b2)*dlogits).sum(0, keepdim=True)\n",
    "dh = dlogits @ W2.T\n",
    "\n",
    "dpre_act = (1-(h)**2) *dh#(1-(((2*pre_act).exp()-1)/((2*pre_act).exp()+1))**2) *dh\n",
    "dbnraw = (bngain * dpre_act)\n",
    "dbngain = (bnraw * dpre_act).sum(0, keepdim=True)\n",
    "dbnbias = (dpre_act * torch.ones_like(bnbias)).sum(0, keepdim=True)\n",
    "\n",
    "dbnvar_inv = (bndiff * dbnraw).sum(0, keepdim=True)\n",
    "dbnvar=  -0.5 * (bnvar + 1e-5)**-1.5 * dbnvar_inv\n",
    "dbndiff2 = dbnvar.sum(0, keepdim=True)/(n-1)\n",
    "dbndiff = bnvar_inv * dbnraw + 2*bndiff*dbndiff2\n",
    "\n",
    "dbnmean =( -torch.ones_like(bndiff) * dbndiff).sum(0, keepdim=True)\n",
    "dpre_bn = torch.ones_like(pre_bn) * dbndiff + (torch.ones_like(pre_bn)/n * dbnmean)\n",
    "\n",
    "\n",
    "dembcat = dpre_bn @ W1.T\n",
    "dW1 = embcat.T @ dpre_bn\n",
    "db1 = (dpre_bn * torch.ones_like(b1)).sum(0, keepdim=True)\n",
    "demb = dembcat.view(emb.shape)# re-represent the shape of the original tensor before concatanation\n",
    "dC = torch. zeros_like(C)\n",
    "for k in range(Xb. shape [0]): \n",
    "    for j in range (Xb.shape [1]):\n",
    "        ix = Xb[k,j]\n",
    "        dC [ix] += demb[k,j]\n",
    "cmp('probs', dprobs, probs)\n",
    "cmp('counts_sum_inv', dcounts_sum_inv, counts_sum_inv)\n",
    "cmp('counts_sum', dcounts_sum, counts_sum)\n",
    "cmp('counts', dcounts, counts)\n",
    "cmp('norm_logits', dnorm_logits, norm_logits)\n",
    "cmp('logit_maxes', dlogit_maxes, logit_maxes)\n",
    "cmp('logits', dlogits, logits)\n",
    "cmp('h', dh, h)\n",
    "cmp('W2', dW2, W2)\n",
    "cmp('b2', db2, b2)\n",
    "cmp('pre_act', dpre_act, pre_act)\n",
    "cmp('bngain', dbngain, bngain)\n",
    "cmp('bnbias', dbnbias, bnbias)\n",
    "cmp('bnraw', dbnraw, bnraw)\n",
    "cmp('bnvar_inv', dbnvar_inv, bnvar_inv)\n",
    "cmp('bnvar', dbnvar, bnvar)\n",
    "cmp('bndiff2', dbndiff2, bndiff2)\n",
    "cmp('bndiff', dbndiff, bndiff)\n",
    "cmp('bnmean', dbnmean, bnmean)\n",
    "cmp('hprebn', dpre_bn, pre_bn)\n",
    "cmp('embcat', dembcat, embcat)\n",
    "cmp('W1', dW1, W1)\n",
    "cmp('b1', db1, b1)\n",
    "cmp('emb', demb, emb)\n",
    "cmp('C', dC, C)"
   ]
  },
  {
   "cell_type": "code",
   "execution_count": 107,
   "id": "d22ab87f",
   "metadata": {},
   "outputs": [
    {
     "name": "stdout",
     "output_type": "stream",
     "text": [
      "3.5622336864471436 diff: 2.384185791015625e-07\n"
     ]
    }
   ],
   "source": [
    "# Exercise 2: backprop through cross_entropy but all in one go\n",
    "# to complete this challenge look at the mathematical expression of the loss,\n",
    "# take the derivative, simplify the expression, and just write it out\n",
    "\n",
    "# forward pass\n",
    "\n",
    "# before:\n",
    "# logit_maxes = logits.max(1, keepdim=True).values\n",
    "# norm_logits = logits - logit_maxes # subtract max for numerical stability\n",
    "# counts = norm_logits.exp()\n",
    "# counts_sum = counts.sum(1, keepdims=True)\n",
    "# counts_sum_inv = counts_sum**-1 # if I use (1.0 / counts_sum) instead then I can't get backprop to be bit exact...\n",
    "# probs = counts * counts_sum_inv\n",
    "# logprobs = probs.log()\n",
    "# loss = -logprobs[range(n), Yb].mean()\n",
    "\n",
    "# now:\n",
    "loss_fast = F.cross_entropy(logits, Yb)\n",
    "print(loss_fast.item(), 'diff:', (loss_fast - loss).item())"
   ]
  },
  {
   "cell_type": "code",
   "execution_count": null,
   "id": "94444619",
   "metadata": {},
   "outputs": [],
   "source": [
    "# backward pass\n",
    "\n",
    "# -----------------\n",
    "# YOUR CODE HERE :)\n",
    "dlogits = None # TODO. my solution is 3 lines\n",
    "# -----------------\n",
    "\n",
    "#cmp('logits', dlogits, logits) # I can only get approximate to be true, my maxdiff is 6e-9"
   ]
  }
 ],
 "metadata": {
  "kernelspec": {
   "display_name": "base",
   "language": "python",
   "name": "python3"
  },
  "language_info": {
   "codemirror_mode": {
    "name": "ipython",
    "version": 3
   },
   "file_extension": ".py",
   "mimetype": "text/x-python",
   "name": "python",
   "nbconvert_exporter": "python",
   "pygments_lexer": "ipython3",
   "version": "3.12.7"
  }
 },
 "nbformat": 4,
 "nbformat_minor": 5
}
